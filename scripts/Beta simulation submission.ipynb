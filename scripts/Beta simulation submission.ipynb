{
 "cells": [
  {
   "cell_type": "code",
   "execution_count": null,
   "id": "4e303c08-ca0b-432d-9ae8-21c2300a86a7",
   "metadata": {},
   "outputs": [],
   "source": [
    "import numpy as np\n",
    "import matplotlib.pyplot as plt\n",
    "from scipy.stats import multivariate_normal\n",
    "\n",
    "p = 0.2\n",
    "\n",
    "x, y = np.mgrid[-1:1:.01, -1:1:.01]\n",
    "pos = np.dstack((x, y))\n",
    "rv = multivariate_normal([0.5, -0.2], [[1, p], [p, 1]])\n",
    "fig2 = plt.figure()\n",
    "ax2 = fig2.add_subplot(111)\n",
    "ax2.contourf(x, y, rv.pdf(pos))"
   ]
  },
  {
   "cell_type": "code",
   "execution_count": null,
   "id": "d6323ef3-ae08-4396-a1f9-810b7c877f1d",
   "metadata": {},
   "outputs": [],
   "source": [
    "from scipy import stats\n",
    "\n",
    "corrs = []\n",
    "for x in range(50000):\n",
    "    samples = rv.rvs(100)\n",
    "    corrs.append(stats.pearsonr(samples[:,0], samples[:,1]).statistic)\n",
    "\n",
    "corrs_np = np.array(corrs)"
   ]
  },
  {
   "cell_type": "code",
   "execution_count": null,
   "id": "78f12ea7-e557-4380-9c13-266f5f314e92",
   "metadata": {},
   "outputs": [],
   "source": [
    "import pandas as pd\n",
    "\n",
    "c = pd.Series(corrs_np)\n",
    "print(c.mean())\n",
    "print(c.std())\n",
    "c.plot.hist(grid=True, bins=20, rwidth=0.9, color='#607c8e')"
   ]
  },
  {
   "cell_type": "code",
   "execution_count": null,
   "id": "2c8f174b-38bf-491a-933c-15c9404edccf",
   "metadata": {},
   "outputs": [],
   "source": [
    "import scipy\n",
    "import matplotlib.pyplot as plt\n",
    "\n",
    "beta_params = scipy.stats.beta.fit(corrs_np, floc=-1, fscale=2)\n",
    "x = sorted(corrs)\n",
    "beta_pdf = stats.beta.pdf(x, beta_params[0], beta_params[1], beta_params[2], beta_params[3])\n",
    "print(beta_params[0], beta_params[1], beta_params[2], beta_params[3])\n",
    "plt.grid()\n",
    "plt.plot(x, beta_pdf)"
   ]
  },
  {
   "cell_type": "code",
   "execution_count": null,
   "id": "655e7d93",
   "metadata": {},
   "outputs": [],
   "source": [
    "import numpy as np \n",
    "import matplotlib.pyplot as plt\n",
    "from scipy.stats import beta \n",
    "from scipy.optimize import curve_fit\n",
    "\n",
    "fig, ax = plt.subplots() \n",
    "nbins = 100\n",
    "n, bins, patches = ax.hist(corrs_np, nbins, density=True, facecolor = 'grey', alpha = 0.5, label='before'); \n",
    "\n",
    "centers = (0.5*(bins[1:]+bins[:-1]))\n",
    "pars, cov = curve_fit(lambda x, a, b : beta.pdf(x, a, b, -1, 2), centers, n, p0=[60,40])\n",
    "\n",
    "ax.plot(centers, beta.pdf(centers,*pars, -1, 2), 'k--',linewidth = 2, label='fit before') \n",
    "ax.set_title('$a={:.4f}\\pm{:.4f}$, $b={:.4f}\\pm{:.4f}$'.format(pars[0],2*np.sqrt(cov[0,0]), pars[1], 2*np.sqrt(cov[1,1 ])))\n",
    "\n",
    "plt.show()"
   ]
  },
  {
   "cell_type": "code",
   "execution_count": null,
   "id": "6174cdae-80fc-483a-b467-99131cf506bb",
   "metadata": {},
   "outputs": [],
   "source": [
    "fig = plt.figure()\n",
    "ax = fig.add_subplot(111)\n",
    "res = stats.probplot(corrs, dist=stats.beta, sparams=beta_params, plot=ax)\n",
    "ax.set_title(\"Probplot for beta dist\")"
   ]
  },
  {
   "cell_type": "code",
   "execution_count": null,
   "id": "5ef0f701-22ec-4ddd-a2bb-08660c677991",
   "metadata": {},
   "outputs": [],
   "source": [
    "n = 1000\n",
    "x = np.linspace(-0.2, 0.2, 100, endpoint=False)\n",
    "y = ((1-x**2)**(n/2-2))/scipy.special.beta(1/2, n/2-1)\n",
    "fig1 = plt.figure()\n",
    "ax = fig1.add_subplot(111)\n",
    "ax.plot(x, y)\n",
    "plt.show()"
   ]
  },
  {
   "cell_type": "code",
   "execution_count": null,
   "id": "2aa6a8af-c942-4e38-945b-00c95c99ae2d",
   "metadata": {},
   "outputs": [],
   "source": [
    "import math\n",
    "import numpy as np\n",
    "import scipy\n",
    "import matplotlib.pyplot as plt\n",
    "\n",
    "n = 100\n",
    "x = np.linspace(-1, 1, 500, endpoint=False)\n",
    "y = (n-2) * scipy.special.gamma(n-1) * (1-p**2)**((n-1)/2) * (1-x**2)**((n-4)/2) * scipy.special.hyp2f1(1/2, 1/2, 1/2*(2*n-1), 1/2*(p*x+1)) / ((2*math.pi)**0.5 * scipy.special.gamma(n-1/2) * (1-p*x)**(n-3/2))\n",
    "fig1 = plt.figure()\n",
    "ax = fig1.add_subplot(111)\n",
    "ax.plot(x, y)\n",
    "\n",
    "beta_params = scipy.stats.beta.fit(corrs_np, floc=-1, fscale=2)\n",
    "x = sorted(corrs)\n",
    "beta_pdf = stats.beta.pdf(x, beta_params[0], beta_params[1], beta_params[2], beta_params[3])\n",
    "print(beta_params[0], beta_params[1], beta_params[2], beta_params[3])\n",
    "plt.grid()\n",
    "plt.plot(x, beta_pdf)\n",
    "\n",
    "plt.show()"
   ]
  },
  {
   "cell_type": "code",
   "execution_count": null,
   "id": "9a832036-bd52-4188-93fe-58f8e49d1504",
   "metadata": {},
   "outputs": [],
   "source": [
    "import math\n",
    "import numpy as np\n",
    "import scipy\n",
    "import matplotlib.pyplot as plt\n",
    "\n",
    "n = 10\n",
    "x = np.linspace(-1, 1, 100, endpoint=False)\n",
    "#y = (n-2) * (1-p**2)**((n-1)/2) * (1-x**2)**((n-4)/2) * scipy.special.hyp2f1(1/2, 1/2, 1/2*(2*n-1), 1/2*(p*x+1)) / ((2*math.pi)**0.5)\n",
    "y = 1 / (1-p*x)**(n-3/2)\n",
    "#y = scipy.special.hyp2f1(1/2, 1/2, 1/2*(2*n-1), 1/2*(p*x+1)) - scipy.special.hyp2f1(1/2, 1/2, 1/2*(2*n-1), 1/2)\n",
    "fig1 = plt.figure()\n",
    "ax = fig1.add_subplot(111)\n",
    "ax.plot(x, y)\n",
    "plt.show()"
   ]
  },
  {
   "cell_type": "code",
   "execution_count": null,
   "id": "8c4907d1-54a4-48d8-b255-d3c1825e07a7",
   "metadata": {},
   "outputs": [],
   "source": [
    "from scipy import stats\n",
    "from scipy.stats import multivariate_normal\n",
    "\n",
    "# p = -0.9 to 0.9\n",
    "ps = np.array(range(-9, 10))/10\n",
    "\n",
    "all_beta_param = []\n",
    "\n",
    "for p in ps:\n",
    "    rv = multivariate_normal([0.5, -0.2], [[1, p], [p, 1]])\n",
    "\n",
    "    corrs = []\n",
    "    for x in range(50000):\n",
    "        samples = rv.rvs(100)\n",
    "        corrs.append(stats.pearsonr(samples[:,0], samples[:,1]).statistic)\n",
    "\n",
    "    corrs_np = np.array(corrs)\n",
    "    \n",
    "    beta_params = scipy.stats.beta.fit(corrs_np, floc=-1, fscale=2)\n",
    "    all_beta_param.append(beta_params)"
   ]
  },
  {
   "cell_type": "code",
   "execution_count": null,
   "id": "7077c4ad-8280-416e-8165-cb503d02acc5",
   "metadata": {},
   "outputs": [],
   "source": [
    "all_beta_param_np = np.array(all_beta_param)\n",
    "all_beta_param_np"
   ]
  },
  {
   "cell_type": "code",
   "execution_count": null,
   "id": "c562b467-baaf-43e0-8b0f-26846f6b6cc5",
   "metadata": {},
   "outputs": [],
   "source": [
    "ps"
   ]
  },
  {
   "cell_type": "code",
   "execution_count": null,
   "id": "531697c7-28cb-4f69-a3be-b7184a23454b",
   "metadata": {},
   "outputs": [],
   "source": [
    "import math\n",
    "import numpy as np\n",
    "import scipy\n",
    "import matplotlib.pyplot as plt\n",
    "\n",
    "fig1 = plt.figure()\n",
    "ax = fig1.add_subplot(111)\n",
    "ax.plot(ps, all_beta_param_np[:,0])\n",
    "plt.grid()\n",
    "plt.show()"
   ]
  },
  {
   "cell_type": "code",
   "execution_count": null,
   "id": "52e34097-49e5-47b5-87e7-7e8276d608af",
   "metadata": {},
   "outputs": [],
   "source": [
    "(100/2 - 1)/(ps+1)"
   ]
  },
  {
   "cell_type": "code",
   "execution_count": null,
   "id": "4bfa855e-3cf3-42bc-85e1-4754d770d88e",
   "metadata": {},
   "outputs": [],
   "source": [
    "(100/2 - 1)/(-ps+1)"
   ]
  },
  {
   "cell_type": "code",
   "execution_count": null,
   "id": "be02baed-81ed-4307-ae12-f1712ee20d99",
   "metadata": {},
   "outputs": [],
   "source": [
    "y"
   ]
  },
  {
   "cell_type": "code",
   "execution_count": null,
   "id": "f9e9f6f1-f0e3-4155-9584-fe561c4c17c0",
   "metadata": {},
   "outputs": [],
   "source": [
    "from scipy import stats\n",
    "\n",
    "x = np.linspace(-1, 1, 100, endpoint=False)\n",
    "p = 0.2\n",
    "n = 100\n",
    "y = (n-2) * scipy.special.gamma(n-1) * (1-p**2)**((n-1)/2) * (1-x**2)**((n-4)/2) * scipy.special.hyp2f1(1/2, 1/2, 1/2*(2*n-1), 1/2*(p*x+1)) / ((2*math.pi)**0.5 * scipy.special.gamma(n-1/2) * (1-p*x)**(n-3/2))\n",
    "beta_pdf = stats.beta.pdf(x, (n/2 - 1)/(-p+1), (n/2 - 1)/(p+1), -1, 2)\n",
    "beta_pdf"
   ]
  },
  {
   "cell_type": "code",
   "execution_count": null,
   "id": "2ec9c383-9122-4033-9cdd-ef78504187e9",
   "metadata": {},
   "outputs": [],
   "source": [
    "y"
   ]
  },
  {
   "cell_type": "code",
   "execution_count": null,
   "id": "e34fdec2-49e6-4bc3-862a-f87dccb0d7b3",
   "metadata": {},
   "outputs": [],
   "source": [
    "fig1 = plt.figure()\n",
    "ax = fig1.add_subplot(111)\n",
    "ax.plot(x, y)\n",
    "print(beta_params[0], beta_params[1], beta_params[2], beta_params[3])\n",
    "plt.grid()\n",
    "plt.plot(x, beta_pdf)"
   ]
  },
  {
   "cell_type": "code",
   "execution_count": null,
   "id": "83cd3b6d-8612-4d7e-ba0f-061d6a21a71d",
   "metadata": {},
   "outputs": [],
   "source": [
    "sum((beta_pdf - y)**2)"
   ]
  },
  {
   "cell_type": "code",
   "execution_count": null,
   "id": "7878ef9c-5d2d-4216-a2a3-5f33bb9c2564",
   "metadata": {},
   "outputs": [],
   "source": [
    "stats.beta.mean((n/2 - 1)/(-p+1), (n/2 - 1)/(p+1), -1, 2)"
   ]
  },
  {
   "cell_type": "markdown",
   "id": "935e181b-3cf2-4077-ad90-c0a9a33ff646",
   "metadata": {},
   "source": [
    "KL Divergence between the exact PDF and approx. beta PDF"
   ]
  },
  {
   "cell_type": "code",
   "execution_count": null,
   "id": "5719a946-e487-4538-90cf-f1c7b6cb9de6",
   "metadata": {},
   "outputs": [],
   "source": [
    "import numpy as np\n",
    "\n",
    "p = np.arange(-0.8, 0.9, 0.1)\n",
    "kl2a = [0, 0.0000465781, 0.000186373, 0.000419568, 0.00074647, 0.00116751, 0.00168326, 0.0022944, 0.00300179] #, 0.00380642]\n",
    "kl2 = [0, 0.0000179458, 0.0000717922, 0.000161567, 0.000287315, 0.000449826, 0.000647009, 0.000881141, 0.00115162]\n",
    "klnorm = [0.000181517, 0.000803029, 0.00434493, 0.0182624, 0.0649134, 0.205143, 0.353516, 0.600779, 1.01247, 1.70296, 2.88237, 4.96682]\n",
    "klnorm2 = [0.0000268727, 0.000353792, 0.00361042, 0.0227707, 0.104711, 0.390413, 0.714322, 1.2751, 2.23769, 3.8926, 6.7768, 11.9588]\n",
    "kl = kl2.copy()\n",
    "kl.reverse()\n",
    "kl = kl[:-1]\n",
    "kl.extend(kl2)\n",
    "kl\n",
    "\n",
    "kla = kl2a.copy()\n",
    "kla.reverse()\n",
    "kla = kla[:-1]\n",
    "kla.extend(kl2a)\n",
    "kla\n",
    "\n",
    "kln = klnorm.copy()\n",
    "kln.reverse()\n",
    "kln = kln[:-1]\n",
    "kln.extend(klnorm)\n",
    "kln\n",
    "\n",
    "kln2 = klnorm2.copy()\n",
    "kln2.reverse()\n",
    "kln2 = kln2[:-1]\n",
    "kln2.extend(klnorm2)\n",
    "kln2"
   ]
  },
  {
   "cell_type": "code",
   "execution_count": null,
   "id": "5a9db415-0cfe-4222-b8f1-eeac66e6688a",
   "metadata": {},
   "outputs": [],
   "source": [
    "import math\n",
    "import numpy as np\n",
    "import scipy\n",
    "import matplotlib.pyplot as plt\n",
    "\n",
    "fig1 = plt.figure()\n",
    "ax = fig1.add_subplot(111)\n",
    "ax.plot(p, kla, '--')\n",
    "ax.plot(p, kl)\n",
    "plt.xlabel(\"ρ\")\n",
    "plt.ylabel(\"Kullback Leibler Divergence\")\n",
    "plt.xlim(-1, 1)\n",
    "plt.grid()\n",
    "plt.legend(['$n = 100$', '$n = 257$']) \n",
    "plt.show()"
   ]
  },
  {
   "cell_type": "code",
   "execution_count": null,
   "id": "94e156ce",
   "metadata": {},
   "outputs": [],
   "source": [
    "import math\n",
    "import numpy as np\n",
    "import scipy\n",
    "import matplotlib.pyplot as plt\n",
    "\n",
    "p = [-0.8, -0.75, -0.7, -0.65, -0.6, -0.55]\n",
    "p.extend(np.arange(-0.5, 0.51, 0.1))\n",
    "p.extend([0.55, 0.6, 0.65, 0.7, 0.75, 0.8])\n",
    "\n",
    "fig1 = plt.figure()\n",
    "ax = fig1.add_subplot(111)\n",
    "ax.plot(p, kln, '--')\n",
    "ax.plot(p, kln2)\n",
    "plt.xlabel(\"ρ\")\n",
    "plt.ylabel(\"Kullback Leibler Divergence\")\n",
    "plt.xlim(-1, 1)\n",
    "plt.grid()\n",
    "plt.legend(['$n = 100$', \"$n = 257$\"]) \n",
    "plt.show()"
   ]
  },
  {
   "cell_type": "code",
   "execution_count": null,
   "id": "4d85d314",
   "metadata": {},
   "outputs": [],
   "source": [
    "import math\n",
    "import numpy as np\n",
    "import scipy\n",
    "import matplotlib.pyplot as plt\n",
    "\n",
    "kl2a = [0, 0.0000465781, 0.000186373]\n",
    "kl2 = [0, 0.0000179458, 0.0000717922]\n",
    "klnorm = [0.000181517, 0.000803029, 0.00434493]\n",
    "klnorm2 = [0.0000268727, 0.000353792, 0.00361042]\n",
    "\n",
    "kl = kl2.copy()\n",
    "kl.reverse()\n",
    "kl = kl[:-1]\n",
    "kl.extend(kl2)\n",
    "kl\n",
    "\n",
    "kla = kl2a.copy()\n",
    "kla.reverse()\n",
    "kla = kla[:-1]\n",
    "kla.extend(kl2a)\n",
    "kla\n",
    "\n",
    "kln = klnorm.copy()\n",
    "kln.reverse()\n",
    "kln = kln[:-1]\n",
    "kln.extend(klnorm)\n",
    "kln\n",
    "\n",
    "kln2 = klnorm2.copy()\n",
    "kln2.reverse()\n",
    "kln2 = kln2[:-1]\n",
    "kln2.extend(klnorm2)\n",
    "kln2\n",
    "\n",
    "p = np.arange(-0.2, 0.21, 0.1)\n",
    "\n",
    "fig1 = plt.figure()\n",
    "ax = fig1.add_subplot(111)\n",
    "ax.plot(p, kln, '--')\n",
    "ax.plot(p, kln2, '--')\n",
    "ax.plot(p, kla)\n",
    "ax.plot(p, kl)\n",
    "plt.xlabel(\"ρ\")\n",
    "plt.ylabel(\"Kullback Leibler Divergence\")\n",
    "plt.xlim(-1, 1)\n",
    "plt.grid()\n",
    "plt.legend(['Fisher $n = 100$', \"Fisher $n = 257$\", 'Beta $n = 100$', \"Beta $n = 257$\"]) \n",
    "plt.show()"
   ]
  },
  {
   "cell_type": "code",
   "execution_count": null,
   "id": "59fc22f0-7661-4f77-8379-c076e66e0697",
   "metadata": {},
   "outputs": [],
   "source": [
    "p"
   ]
  },
  {
   "cell_type": "code",
   "execution_count": null,
   "id": "59469d21-0eb3-4254-9c8c-e7ddaacf8948",
   "metadata": {},
   "outputs": [],
   "source": [
    "from scipy.integrate import quad\n",
    "import numpy as np\n",
    "import matplotlib.pyplot as plt\n",
    "\n",
    "n = 100\n",
    "\n",
    "# Define the PDF function\n",
    "def pdf(x):\n",
    "    return ((1-x**2)**(n/2-2))/scipy.special.beta(1/2, n/2-1)\n",
    "\n",
    "# Define the CDF function by integrating the PDF up to a point x\n",
    "def cdf(x):\n",
    "    result, _ = quad(pdf, -1, x)\n",
    "    return result\n",
    "\n",
    "# Generate a range of x values\n",
    "x_values = np.linspace(-0.9, 0.9, 100)\n",
    "\n",
    "# Calculate CDF values for each x\n",
    "cdf_values = [cdf(x) for x in x_values]\n",
    "\n",
    "# Plot the CDF\n",
    "plt.plot(x_values, cdf_values, label=\"CDF from custom PDF\")\n",
    "plt.xlabel(\"x\")\n",
    "plt.ylabel(\"CDF\")\n",
    "plt.title(\"CDF calculated from PDF\")\n",
    "plt.legend()\n",
    "plt.show()\n"
   ]
  },
  {
   "cell_type": "code",
   "execution_count": null,
   "id": "5fbe1b8c-7dcd-45e3-b4e2-c99283e14ce7",
   "metadata": {},
   "outputs": [],
   "source": [
    "import numpy as np\n",
    "import matplotlib.pyplot as plt\n",
    "from scipy.stats import multivariate_normal\n",
    "\n",
    "np.random.seed(2)\n",
    "\n",
    "p = 0.8\n",
    "\n",
    "x, y = np.mgrid[-1:1:.01, -1:1:.01]\n",
    "pos = np.dstack((x, y))\n",
    "rv = multivariate_normal([0.5, -0.2], [[1, p], [p, 1]])\n",
    "\n",
    "from scipy import stats\n",
    "\n",
    "n = 100\n",
    "\n",
    "corrs = []\n",
    "for x in range(n):\n",
    "    samples = rv.rvs(100)\n",
    "    corrs.append(stats.pearsonr(samples[:,0], samples[:,1]).statistic)\n",
    "\n",
    "corrs_np = np.array(corrs)\n",
    "\n",
    "# Define the PDF function\n",
    "def pdf(x):\n",
    "    return ((1-x**2)**(n/2-2))/scipy.special.beta(1/2, n/2-1)\n",
    "\n",
    "def pdf2(x):\n",
    "    return (n-2) * scipy.special.gamma(n-1) * (1-p**2)**((n-1)/2) * (1-x**2)**((n-4)/2) * scipy.special.hyp2f1(1/2, 1/2, 1/2*(2*n-1), 1/2*(p*x+1)) / ((2*math.pi)**0.5 * scipy.special.gamma(n-1/2) * (1-p*x)**(n-3/2))\n",
    "\n",
    "# Define the CDF function by integrating the PDF up to a point x\n",
    "def cdf(x):\n",
    "    result, _ = quad(pdf2, -1, x)\n",
    "    return result\n",
    "\n",
    "mean, _ = quad(lambda x: x * pdf2(x), -1, 1)\n",
    "\n",
    "p_values = []\n",
    "for c in corrs_np:\n",
    "    if c > 0:\n",
    "        p_value = (1 - cdf(c)) + cdf(c - 2*(c - mean))\n",
    "    else:\n",
    "        p_value = cdf(c) + (1 - cdf(c + 2*(mean - c)))\n",
    "    p_values.append(p_value)\n",
    "\n",
    "p_values_np1 = np.array(p_values)\n",
    "sum(p_values_np1 < 0.05)"
   ]
  },
  {
   "cell_type": "code",
   "execution_count": null,
   "id": "62ee0a86",
   "metadata": {},
   "outputs": [],
   "source": [
    "import numpy as np\n",
    "import matplotlib.pyplot as plt\n",
    "from scipy.stats import multivariate_normal\n",
    "from scipy.stats import norm\n",
    "\n",
    "\n",
    "np.random.seed(2)\n",
    "\n",
    "p = 0.8\n",
    "\n",
    "x, y = np.mgrid[-1:1:.01, -1:1:.01]\n",
    "pos = np.dstack((x, y))\n",
    "rv = multivariate_normal([0.5, -0.2], [[1, p], [p, 1]])\n",
    "\n",
    "from scipy import stats\n",
    "\n",
    "n = 100\n",
    "\n",
    "corrs = []\n",
    "for x in range(n):\n",
    "    samples = rv.rvs(100)\n",
    "    corrs.append(stats.pearsonr(samples[:,0], samples[:,1]).statistic)\n",
    "\n",
    "corrs_np = np.array(corrs)\n",
    "\n",
    "p_values = []\n",
    "for c in corrs_np:\n",
    "    z = 0.5 * np.log((1+c)/(1-c))\n",
    "    if z > 0:\n",
    "        p_value = (1 - norm.cdf(z, loc=0.5 * np.log((1+p)/(1-p)), scale=1/(n-3)**0.5))*2\n",
    "    else:\n",
    "        p_value = norm.cdf(z, loc=0.5 * np.log((1+p)/(1-p)), scale=1/(n-3)**0.5)*2\n",
    "    p_values.append(p_value)\n",
    "\n",
    "p_values_np2 = np.array(p_values)\n",
    "sum(p_values_np2 < 0.05)"
   ]
  },
  {
   "cell_type": "code",
   "execution_count": null,
   "id": "9f1ed8ca",
   "metadata": {},
   "outputs": [],
   "source": [
    "cl_array = []\n",
    "p_values_np1_array = []\n",
    "p_values_np2_array = []\n",
    "for cl in range(1, 60):\n",
    "    cl_array.append(cl/1000)\n",
    "    p_values_np1_array.append(sum(p_values_np1 < cl / 1000))\n",
    "    p_values_np2_array.append(sum(p_values_np2 < cl / 1000))\n",
    "\n",
    "plt.plot(cl_array, p_values_np1_array, label=\"Beta approximation\")\n",
    "plt.plot(cl_array, p_values_np2_array, label=\"Fisher's z-transformation\")\n",
    "plt.ylabel(\"Number of samples rejected due to Type 1 error\")\n",
    "plt.xlabel(\"Two-tailed confidence level\")\n",
    "plt.title(\"Comparison of Type I Errors with $n = 100$ and $p = 0.8$\")\n",
    "plt.legend()\n",
    "plt.grid()\n",
    "plt.show()"
   ]
  },
  {
   "cell_type": "code",
   "execution_count": null,
   "id": "1ae55132",
   "metadata": {},
   "outputs": [],
   "source": []
  },
  {
   "cell_type": "code",
   "execution_count": null,
   "id": "72771183",
   "metadata": {},
   "outputs": [],
   "source": []
  }
 ],
 "metadata": {
  "kernelspec": {
   "display_name": "Python 3 (ipykernel)",
   "language": "python",
   "name": "python3"
  },
  "language_info": {
   "codemirror_mode": {
    "name": "ipython",
    "version": 3
   },
   "file_extension": ".py",
   "mimetype": "text/x-python",
   "name": "python",
   "nbconvert_exporter": "python",
   "pygments_lexer": "ipython3",
   "version": "3.10.13"
  }
 },
 "nbformat": 4,
 "nbformat_minor": 5
}
